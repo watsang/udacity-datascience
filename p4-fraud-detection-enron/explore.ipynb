{
 "metadata": {
  "name": "explore.ipynb"
 },
 "nbformat": 3,
 "nbformat_minor": 0,
 "worksheets": [
  {
   "cells": [
    {
     "cell_type": "code",
     "collapsed": false,
     "input": [
      "%cd \"D:/Github/ud120-projects/final_project\"\n"
     ],
     "language": "python",
     "metadata": {},
     "outputs": [
      {
       "output_type": "stream",
       "stream": "stdout",
       "text": [
        "D:\\Github\\ud120-projects\\final_project\n"
       ]
      }
     ],
     "prompt_number": 4
    },
    {
     "cell_type": "code",
     "collapsed": false,
     "input": [
      "#!/usr/bin/python\n",
      "# -*- coding: utf-8 -*-\n",
      "\n",
      "\"\"\" \n",
      "    starter code for exploring the Enron dataset (emails + finances) \n",
      "    loads up the dataset (pickled dict of dicts)\n",
      "\n",
      "    the dataset has the form\n",
      "    enron_data[\"LASTNAME FIRSTNAME MIDDLEINITIAL\"] = { features_dict }\n",
      "\n",
      "    {features_dict} is a dictionary of features associated with that person\n",
      "    you should explore features_dict as part of the mini-project,\n",
      "    but here's an example to get you started:\n",
      "\n",
      "    enron_data[\"SKILLING JEFFREY K\"][\"bonus\"] = 5600000\n",
      "    \n",
      "\"\"\"\n",
      "\n",
      "import pickle\n",
      "\n",
      "enron_data = pickle.load(open(\"../final_project/final_project_dataset.pkl\", \"r\"))\n"
     ],
     "language": "python",
     "metadata": {},
     "outputs": [],
     "prompt_number": 5
    },
    {
     "cell_type": "code",
     "collapsed": false,
     "input": [
      "###############\n",
      "# Question 1  #\n",
      "###############\n",
      "\n",
      "print \"The number of persons in the data set are %d.\" %(len(enron_data.keys()))\n",
      "\n",
      "#print df.poi\n"
     ],
     "language": "python",
     "metadata": {},
     "outputs": [
      {
       "output_type": "stream",
       "stream": "stdout",
       "text": [
        "The number of persons in the data set are 146.\n"
       ]
      }
     ],
     "prompt_number": 6
    },
    {
     "cell_type": "code",
     "collapsed": false,
     "input": [
      "###############\n",
      "# Question 2  #\n",
      "###############\n",
      "\n",
      "example = enron_data.keys()[0]\n",
      "print \"There are %d features.\" %(len(enron_data[example].keys()))\n",
      "\n"
     ],
     "language": "python",
     "metadata": {},
     "outputs": [
      {
       "output_type": "stream",
       "stream": "stdout",
       "text": [
        "There are 21 features.\n"
       ]
      }
     ],
     "prompt_number": 7
    },
    {
     "cell_type": "code",
     "collapsed": false,
     "input": [
      "###############\n",
      "# Question 3  #\n",
      "###############\n",
      "import pandas as pd\n",
      "df = pd.DataFrame(enron_data).T\n",
      "print \"There are %d persons of interest.\" %(sum(df.poi))\n",
      "\n"
     ],
     "language": "python",
     "metadata": {},
     "outputs": [
      {
       "output_type": "stream",
       "stream": "stdout",
       "text": [
        "There are 18 persons of interest.\n"
       ]
      }
     ],
     "prompt_number": 8
    },
    {
     "cell_type": "code",
     "collapsed": false,
     "input": [
      "###############\n",
      "# Question 4  #\n",
      "###############\n",
      "\n",
      "%load ../final_project/poi_email_addresses.py\n",
      "\n",
      "# http://napitupulu-jon.appspot.com/posts/datasets-questions.html\n",
      "\n",
      "\n"
     ],
     "language": "python",
     "metadata": {},
     "outputs": [],
     "prompt_number": 9
    },
    {
     "cell_type": "code",
     "collapsed": false,
     "input": [
      "def poiEmails():\n",
      "    email_list = [\"kenneth_lay@enron.net\",    \n",
      "            \"kenneth_lay@enron.com\",\n",
      "            \"klay.enron@enron.com\",\n",
      "            \"kenneth.lay@enron.com\", \n",
      "            \"klay@enron.com\",\n",
      "            \"layk@enron.com\",\n",
      "            \"chairman.ken@enron.com\",\n",
      "            \"jeffreyskilling@yahoo.com\",\n",
      "            \"jeff_skilling@enron.com\",\n",
      "            \"jskilling@enron.com\",\n",
      "            \"effrey.skilling@enron.com\",\n",
      "            \"skilling@enron.com\",\n",
      "            \"jeffrey.k.skilling@enron.com\",\n",
      "            \"jeff.skilling@enron.com\",\n",
      "            \"kevin_a_howard.enronxgate.enron@enron.net\",\n",
      "            \"kevin.howard@enron.com\",\n",
      "            \"kevin.howard@enron.net\",\n",
      "            \"kevin.howard@gcm.com\",\n",
      "            \"michael.krautz@enron.com\"\n",
      "            \"scott.yeager@enron.com\",\n",
      "            \"syeager@fyi-net.com\",\n",
      "            \"scott_yeager@enron.net\",\n",
      "            \"syeager@flash.net\",\n",
      "            \"joe'.'hirko@enron.com\", \n",
      "            \"joe.hirko@enron.com\", \n",
      "            \"rex.shelby@enron.com\", \n",
      "            \"rex.shelby@enron.nt\", \n",
      "            \"rex_shelby@enron.net\",\n",
      "            \"jbrown@enron.com\",\n",
      "            \"james.brown@enron.com\", \n",
      "            \"rick.causey@enron.com\", \n",
      "            \"richard.causey@enron.com\", \n",
      "            \"rcausey@enron.com\",\n",
      "            \"calger@enron.com\",\n",
      "            \"chris.calger@enron.com\", \n",
      "            \"christopher.calger@enron.com\", \n",
      "            \"ccalger@enron.com\",\n",
      "            \"tim_despain.enronxgate.enron@enron.net\", \n",
      "            \"tim.despain@enron.com\",\n",
      "            \"kevin_hannon@enron.com\", \n",
      "            \"kevin'.'hannon@enron.com\", \n",
      "            \"kevin_hannon@enron.net\", \n",
      "            \"kevin.hannon@enron.com\",\n",
      "            \"mkoenig@enron.com\", \n",
      "            \"mark.koenig@enron.com\",\n",
      "            \"m..forney@enron.com\",\n",
      "            \"ken'.'rice@enron.com\", \n",
      "            \"ken.rice@enron.com\",\n",
      "            \"ken_rice@enron.com\", \n",
      "            \"ken_rice@enron.net\",\n",
      "            \"paula.rieker@enron.com\",\n",
      "            \"prieker@enron.com\", \n",
      "            \"andrew.fastow@enron.com\", \n",
      "            \"lfastow@pdq.net\", \n",
      "            \"andrew.s.fastow@enron.com\", \n",
      "            \"lfastow@pop.pdq.net\", \n",
      "            \"andy.fastow@enron.com\",\n",
      "            \"david.w.delainey@enron.com\", \n",
      "            \"delainey.dave@enron.com\", \n",
      "            \"'delainey@enron.com\", \n",
      "            \"david.delainey@enron.com\", \n",
      "            \"'david.delainey'@enron.com\", \n",
      "            \"dave.delainey@enron.com\", \n",
      "            \"delainey'.'david@enron.com\",\n",
      "            \"ben.glisan@enron.com\", \n",
      "            \"bglisan@enron.com\", \n",
      "            \"ben_f_glisan@enron.com\", \n",
      "            \"ben'.'glisan@enron.com\",\n",
      "            \"jeff.richter@enron.com\", \n",
      "            \"jrichter@nwlink.com\",\n",
      "            \"lawrencelawyer@aol.com\", \n",
      "            \"lawyer'.'larry@enron.com\", \n",
      "            \"larry_lawyer@enron.com\", \n",
      "            \"llawyer@enron.com\", \n",
      "            \"larry.lawyer@enron.com\", \n",
      "            \"lawrence.lawyer@enron.com\",\n",
      "            \"tbelden@enron.com\", \n",
      "            \"tim.belden@enron.com\", \n",
      "            \"tim_belden@pgn.com\", \n",
      "            \"tbelden@ect.enron.com\",\n",
      "            \"michael.kopper@enron.com\",\n",
      "            \"dave.duncan@enron.com\", \n",
      "            \"dave.duncan@cipco.org\", \n",
      "            \"duncan.dave@enron.com\",\n",
      "            \"ray.bowen@enron.com\", \n",
      "            \"raymond.bowen@enron.com\", \n",
      "            \"'bowen@enron.com\",\n",
      "            \"wes.colwell@enron.com\",\n",
      "            \"dan.boyle@enron.com\",\n",
      "            \"cloehr@enron.com\", \n",
      "            \"chris.loehr@enron.com\"\n",
      "        ]\n",
      "    return email_list\n"
     ],
     "language": "python",
     "metadata": {},
     "outputs": []
    },
    {
     "cell_type": "code",
     "collapsed": false,
     "input": [
      "import sys\n",
      "sys.path.append(\"../final_project/\")\n",
      "from poi_mail_addresses import poiEmails\n",
      "\n",
      "#fo = open('../final_project/poi_names.txt', 'r')\n",
      "#line = fo.readlines()\n",
      "#fo.close()\n",
      "#\n",
      "\n",
      "\n",
      "#poi_names.txt', skiprows=1,header=False,sep=' ',names=['poi', 'last_name', 'first_name'])\n",
      "\n",
      "#print sum([True for  i in df_names.poi if 'y' in i])\n",
      "## ../final_project/poi_names.txt\n",
      "#"
     ],
     "language": "python",
     "metadata": {},
     "outputs": []
    },
    {
     "cell_type": "code",
     "collapsed": false,
     "input": [
      "36*6.25"
     ],
     "language": "python",
     "metadata": {},
     "outputs": [
      {
       "metadata": {},
       "output_type": "pyout",
       "prompt_number": 1,
       "text": [
        "225.0"
       ]
      }
     ],
     "prompt_number": 1
    }
   ],
   "metadata": {}
  }
 ]
}